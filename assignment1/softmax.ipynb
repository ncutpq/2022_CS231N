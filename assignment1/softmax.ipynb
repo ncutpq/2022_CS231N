{
 "cells": [
  {
   "cell_type": "code",
   "execution_count": null,
   "id": "161a3aa0",
   "metadata": {},
   "outputs": [],
   "source": [
    "# This mounts your Google Drive to the Colab VM.\n",
    "from google.colab import drive\n",
    "drive.mount('/content/drive')\n",
    "\n",
    "# TODO: Enter the foldername in your Drive where you have saved the unzipped\n",
    "# assignment folder, e.g. 'cs231n/assignments/assignment1/'\n",
    "FOLDERNAME = None\n",
    "assert FOLDERNAME is not None, \"[!] Enter the foldername.\"\n",
    "\n",
    "# Now that we've mounted your Drive, this ensures that\n",
    "# the Python interpreter of the Colab VM can load\n",
    "# python files from within it.\n",
    "import sys\n",
    "sys.path.append('/content/drive/My Drive/{}'.format(FOLDERNAME))\n",
    "\n",
    "# This downloads the CIFAR-10 dataset to your Drive\n",
    "# if it doesn't already exist.\n",
    "%cd /content/drive/My\\ Drive/$FOLDERNAME/cs231n/datasets/\n",
    "!bash get_datasets.sh\n",
    "%cd /content/drive/My\\ Drive/$FOLDERNAME"
   ]
  },
  {
   "cell_type": "markdown",
   "id": "26fdca1c",
   "metadata": {
    "tags": [
     "pdf-title"
    ]
   },
   "source": [
    "# Softmax exercise\n",
    "\n",
    "*Complete and hand in this completed worksheet (including its outputs and any supporting code outside of the worksheet) with your assignment submission. For more details see the [assignments page](http://vision.stanford.edu/teaching/cs231n/assignments.html) on the course website.*\n",
    "\n",
    "This exercise is analogous to the SVM exercise. You will:\n",
    "\n",
    "- implement a fully-vectorized **loss function** for the Softmax classifier\n",
    "- implement the fully-vectorized expression for its **analytic gradient**\n",
    "- **check your implementation** with numerical gradient\n",
    "- use a validation set to **tune the learning rate and regularization** strength\n",
    "- **optimize** the loss function with **SGD**\n",
    "- **visualize** the final learned weights\n"
   ]
  },
  {
   "cell_type": "code",
   "execution_count": 1,
   "id": "1f12280f",
   "metadata": {
    "tags": [
     "pdf-ignore"
    ]
   },
   "outputs": [],
   "source": [
    "import random\n",
    "import numpy as np\n",
    "from cs231n.data_utils import load_CIFAR10\n",
    "import matplotlib.pyplot as plt\n",
    "\n",
    "%matplotlib inline\n",
    "plt.rcParams['figure.figsize'] = (10.0, 8.0) # set default size of plots\n",
    "plt.rcParams['image.interpolation'] = 'nearest'\n",
    "plt.rcParams['image.cmap'] = 'gray'\n",
    "\n",
    "# for auto-reloading extenrnal modules\n",
    "# see http://stackoverflow.com/questions/1907993/autoreload-of-modules-in-ipython\n",
    "%load_ext autoreload\n",
    "%autoreload 2"
   ]
  },
  {
   "cell_type": "code",
   "execution_count": 2,
   "id": "ab106c82",
   "metadata": {
    "tags": [
     "pdf-ignore"
    ]
   },
   "outputs": [
    {
     "name": "stdout",
     "output_type": "stream",
     "text": [
      "Train data shape:  (49000, 3073)\n",
      "Train labels shape:  (49000,)\n",
      "Validation data shape:  (1000, 3073)\n",
      "Validation labels shape:  (1000,)\n",
      "Test data shape:  (1000, 3073)\n",
      "Test labels shape:  (1000,)\n",
      "dev data shape:  (500, 3073)\n",
      "dev labels shape:  (500,)\n"
     ]
    }
   ],
   "source": [
    "def get_CIFAR10_data(num_training=49000, num_validation=1000, num_test=1000, num_dev=500):\n",
    "    \"\"\"\n",
    "    Load the CIFAR-10 dataset from disk and perform preprocessing to prepare\n",
    "    it for the linear classifier. These are the same steps as we used for the\n",
    "    SVM, but condensed to a single function.  \n",
    "    \"\"\"\n",
    "    # Load the raw CIFAR-10 data\n",
    "    cifar10_dir = 'cs231n/datasets/cifar-10-batches-py'\n",
    "    \n",
    "    # Cleaning up variables to prevent loading data multiple times (which may cause memory issue)\n",
    "    try:\n",
    "       del X_train, y_train\n",
    "       del X_test, y_test\n",
    "       print('Clear previously loaded data.')\n",
    "    except:\n",
    "       pass\n",
    "\n",
    "    X_train, y_train, X_test, y_test = load_CIFAR10(cifar10_dir)\n",
    "    \n",
    "    # subsample the data\n",
    "    mask = list(range(num_training, num_training + num_validation))\n",
    "    X_val = X_train[mask]\n",
    "    y_val = y_train[mask]\n",
    "    mask = list(range(num_training))\n",
    "    X_train = X_train[mask]\n",
    "    y_train = y_train[mask]\n",
    "    mask = list(range(num_test))\n",
    "    X_test = X_test[mask]\n",
    "    y_test = y_test[mask]\n",
    "    mask = np.random.choice(num_training, num_dev, replace=False)\n",
    "    X_dev = X_train[mask]\n",
    "    y_dev = y_train[mask]\n",
    "    \n",
    "    # Preprocessing: reshape the image data into rows\n",
    "    X_train = np.reshape(X_train, (X_train.shape[0], -1))\n",
    "    X_val = np.reshape(X_val, (X_val.shape[0], -1))\n",
    "    X_test = np.reshape(X_test, (X_test.shape[0], -1))\n",
    "    X_dev = np.reshape(X_dev, (X_dev.shape[0], -1))\n",
    "    \n",
    "    # Normalize the data: subtract the mean image\n",
    "    mean_image = np.mean(X_train, axis = 0)\n",
    "    X_train -= mean_image\n",
    "    X_val -= mean_image\n",
    "    X_test -= mean_image\n",
    "    X_dev -= mean_image\n",
    "    \n",
    "    # add bias dimension and transform into columns\n",
    "    X_train = np.hstack([X_train, np.ones((X_train.shape[0], 1))])\n",
    "    X_val = np.hstack([X_val, np.ones((X_val.shape[0], 1))])\n",
    "    X_test = np.hstack([X_test, np.ones((X_test.shape[0], 1))])\n",
    "    X_dev = np.hstack([X_dev, np.ones((X_dev.shape[0], 1))])\n",
    "    \n",
    "    return X_train, y_train, X_val, y_val, X_test, y_test, X_dev, y_dev\n",
    "\n",
    "\n",
    "# Invoke the above function to get our data.\n",
    "X_train, y_train, X_val, y_val, X_test, y_test, X_dev, y_dev = get_CIFAR10_data()\n",
    "print('Train data shape: ', X_train.shape)\n",
    "print('Train labels shape: ', y_train.shape)\n",
    "print('Validation data shape: ', X_val.shape)\n",
    "print('Validation labels shape: ', y_val.shape)\n",
    "print('Test data shape: ', X_test.shape)\n",
    "print('Test labels shape: ', y_test.shape)\n",
    "print('dev data shape: ', X_dev.shape)\n",
    "print('dev labels shape: ', y_dev.shape)"
   ]
  },
  {
   "cell_type": "markdown",
   "id": "4721c3cb",
   "metadata": {},
   "source": [
    "## Softmax Classifier\n",
    "\n",
    "Your code for this section will all be written inside `cs231n/classifiers/softmax.py`.\n"
   ]
  },
  {
   "cell_type": "code",
   "execution_count": 3,
   "id": "d42765cd",
   "metadata": {},
   "outputs": [
    {
     "name": "stdout",
     "output_type": "stream",
     "text": [
      "loss: 2.321803\n",
      "sanity check: 2.302585\n"
     ]
    }
   ],
   "source": [
    "# First implement the naive softmax loss function with nested loops.\n",
    "# Open the file cs231n/classifiers/softmax.py and implement the\n",
    "# softmax_loss_naive function.\n",
    "\n",
    "from cs231n.classifiers.softmax import softmax_loss_naive\n",
    "import time\n",
    "\n",
    "# Generate a random softmax weight matrix and use it to compute the loss.\n",
    "W = np.random.randn(3073, 10) * 0.0001\n",
    "loss, grad = softmax_loss_naive(W, X_dev, y_dev, 0.0)\n",
    "\n",
    "# As a rough sanity check, our loss should be something close to -log(0.1).\n",
    "print('loss: %f' % loss)\n",
    "print('sanity check: %f' % (-np.log(0.1)))"
   ]
  },
  {
   "cell_type": "markdown",
   "id": "6f88764e",
   "metadata": {
    "tags": [
     "pdf-inline"
    ]
   },
   "source": [
    "**Inline Question 1**\n",
    "\n",
    "Why do we expect our loss to be close to -log(0.1)? Explain briefly.**\n",
    "\n",
    "$\\color{blue}{\\textit Your Answer:}$ * 因为我们的权重矩阵乘以0.001之后导致里面的值都非常小，接近于0，所以我们得到的分值向量里的值也都接近于0。0经过指数化接近1，因为一共有10个类别，之后的归一化会导致正确类别的概率值接近于0.1（等概论1/10），所以根据损失函数的定义得到损失值将接近-log（0.1）*\n",
    "\n"
   ]
  },
  {
   "cell_type": "code",
   "execution_count": 4,
   "id": "4c2626ef",
   "metadata": {},
   "outputs": [
    {
     "name": "stdout",
     "output_type": "stream",
     "text": [
      "numerical: -0.556776 analytic: -0.556776, relative error: 1.044999e-08\n",
      "numerical: -3.505777 analytic: -3.505778, relative error: 2.896408e-08\n",
      "numerical: -0.472576 analytic: -0.472576, relative error: 3.819703e-10\n",
      "numerical: -0.394931 analytic: -0.394931, relative error: 1.970144e-08\n",
      "numerical: -0.987998 analytic: -0.987998, relative error: 5.551724e-09\n",
      "numerical: 0.795233 analytic: 0.795233, relative error: 2.099340e-08\n",
      "numerical: 0.962500 analytic: 0.962500, relative error: 3.657232e-08\n",
      "numerical: -1.387401 analytic: -1.387401, relative error: 4.702029e-08\n",
      "numerical: -1.306198 analytic: -1.306198, relative error: 6.804004e-09\n",
      "numerical: 0.755346 analytic: 0.755346, relative error: 1.096742e-08\n",
      "numerical: -0.295248 analytic: -0.295248, relative error: 8.067522e-08\n",
      "numerical: -0.155530 analytic: -0.155530, relative error: 5.546932e-08\n",
      "numerical: -0.030668 analytic: -0.030668, relative error: 1.316805e-07\n",
      "numerical: 4.100426 analytic: 4.100426, relative error: 1.093840e-08\n",
      "numerical: -1.009416 analytic: -1.009416, relative error: 7.180340e-08\n",
      "numerical: -0.678221 analytic: -0.678221, relative error: 3.291515e-08\n",
      "numerical: -1.850185 analytic: -1.850185, relative error: 1.270234e-08\n",
      "numerical: 0.235283 analytic: 0.235283, relative error: 5.497901e-08\n",
      "numerical: -1.501878 analytic: -1.501878, relative error: 3.216695e-09\n",
      "numerical: -1.401605 analytic: -1.401605, relative error: 1.194721e-08\n"
     ]
    }
   ],
   "source": [
    "# Complete the implementation of softmax_loss_naive and implement a (naive)\n",
    "# version of the gradient that uses nested loops.\n",
    "loss, grad = softmax_loss_naive(W, X_dev, y_dev, 0.0)\n",
    "\n",
    "# As we did for the SVM, use numeric gradient checking as a debugging tool.\n",
    "# The numeric gradient should be close to the analytic gradient.\n",
    "from cs231n.gradient_check import grad_check_sparse\n",
    "f = lambda w: softmax_loss_naive(w, X_dev, y_dev, 0.0)[0]\n",
    "grad_numerical = grad_check_sparse(f, W, grad, 10)\n",
    "\n",
    "# similar to SVM case, do another gradient check with regularization\n",
    "loss, grad = softmax_loss_naive(W, X_dev, y_dev, 5e1)\n",
    "f = lambda w: softmax_loss_naive(w, X_dev, y_dev, 5e1)[0]\n",
    "grad_numerical = grad_check_sparse(f, W, grad, 10)"
   ]
  },
  {
   "cell_type": "code",
   "execution_count": 5,
   "id": "434e757f",
   "metadata": {},
   "outputs": [
    {
     "name": "stdout",
     "output_type": "stream",
     "text": [
      "naive loss: 2.321803e+00 computed in 0.103187s\n",
      "vectorized loss: 2.321803e+00 computed in 0.003000s\n",
      "Loss difference: 0.000000\n",
      "Gradient difference: 0.000000\n"
     ]
    }
   ],
   "source": [
    "# Now that we have a naive implementation of the softmax loss function and its gradient,\n",
    "# implement a vectorized version in softmax_loss_vectorized.\n",
    "# The two versions should compute the same results, but the vectorized version should be\n",
    "# much faster.\n",
    "tic = time.time()\n",
    "loss_naive, grad_naive = softmax_loss_naive(W, X_dev, y_dev, 0.000005)\n",
    "toc = time.time()\n",
    "print('naive loss: %e computed in %fs' % (loss_naive, toc - tic))\n",
    "\n",
    "from cs231n.classifiers.softmax import softmax_loss_vectorized\n",
    "tic = time.time()\n",
    "loss_vectorized, grad_vectorized = softmax_loss_vectorized(W, X_dev, y_dev, 0.000005)\n",
    "toc = time.time()\n",
    "print('vectorized loss: %e computed in %fs' % (loss_vectorized, toc - tic))\n",
    "\n",
    "# As we did for the SVM, we use the Frobenius norm to compare the two versions\n",
    "# of the gradient.\n",
    "grad_difference = np.linalg.norm(grad_naive - grad_vectorized, ord='fro')\n",
    "print('Loss difference: %f' % np.abs(loss_naive - loss_vectorized))\n",
    "print('Gradient difference: %f' % grad_difference)"
   ]
  },
  {
   "cell_type": "code",
   "execution_count": 7,
   "id": "2e5e374d",
   "metadata": {
    "tags": [
     "code"
    ],
    "test": "tuning"
   },
   "outputs": [
    {
     "name": "stdout",
     "output_type": "stream",
     "text": [
      "lr 1.000000e-07 reg 7.500000e+03 train accuracy: 0.276918 val accuracy: 0.270000\n",
      "lr 1.000000e-07 reg 8.000000e+03 train accuracy: 0.273612 val accuracy: 0.288000\n",
      "lr 1.000000e-07 reg 8.500000e+03 train accuracy: 0.276245 val accuracy: 0.279000\n",
      "lr 1.000000e-07 reg 9.000000e+03 train accuracy: 0.283673 val accuracy: 0.284000\n",
      "lr 1.000000e-07 reg 9.500000e+03 train accuracy: 0.286878 val accuracy: 0.303000\n",
      "lr 1.000000e-07 reg 1.000000e+04 train accuracy: 0.286755 val accuracy: 0.298000\n",
      "lr 1.000000e-07 reg 1.050000e+04 train accuracy: 0.291592 val accuracy: 0.292000\n",
      "lr 1.000000e-07 reg 1.100000e+04 train accuracy: 0.289633 val accuracy: 0.290000\n",
      "lr 1.000000e-07 reg 1.150000e+04 train accuracy: 0.290918 val accuracy: 0.292000\n",
      "lr 1.000000e-07 reg 1.200000e+04 train accuracy: 0.296837 val accuracy: 0.291000\n",
      "lr 1.200000e-07 reg 7.500000e+03 train accuracy: 0.289612 val accuracy: 0.282000\n",
      "lr 1.200000e-07 reg 8.000000e+03 train accuracy: 0.294286 val accuracy: 0.304000\n",
      "lr 1.200000e-07 reg 8.500000e+03 train accuracy: 0.297816 val accuracy: 0.307000\n",
      "lr 1.200000e-07 reg 9.000000e+03 train accuracy: 0.304755 val accuracy: 0.318000\n",
      "lr 1.200000e-07 reg 9.500000e+03 train accuracy: 0.304633 val accuracy: 0.293000\n",
      "lr 1.200000e-07 reg 1.000000e+04 train accuracy: 0.306735 val accuracy: 0.339000\n",
      "lr 1.200000e-07 reg 1.050000e+04 train accuracy: 0.310163 val accuracy: 0.317000\n",
      "lr 1.200000e-07 reg 1.100000e+04 train accuracy: 0.308449 val accuracy: 0.307000\n",
      "lr 1.200000e-07 reg 1.150000e+04 train accuracy: 0.315245 val accuracy: 0.321000\n",
      "lr 1.200000e-07 reg 1.200000e+04 train accuracy: 0.322980 val accuracy: 0.311000\n",
      "lr 1.400000e-07 reg 7.500000e+03 train accuracy: 0.305224 val accuracy: 0.310000\n",
      "lr 1.400000e-07 reg 8.000000e+03 train accuracy: 0.304531 val accuracy: 0.304000\n",
      "lr 1.400000e-07 reg 8.500000e+03 train accuracy: 0.319143 val accuracy: 0.320000\n",
      "lr 1.400000e-07 reg 9.000000e+03 train accuracy: 0.319041 val accuracy: 0.331000\n",
      "lr 1.400000e-07 reg 9.500000e+03 train accuracy: 0.322143 val accuracy: 0.343000\n",
      "lr 1.400000e-07 reg 1.000000e+04 train accuracy: 0.330571 val accuracy: 0.338000\n",
      "lr 1.400000e-07 reg 1.050000e+04 train accuracy: 0.325531 val accuracy: 0.329000\n",
      "lr 1.400000e-07 reg 1.100000e+04 train accuracy: 0.324776 val accuracy: 0.331000\n",
      "lr 1.400000e-07 reg 1.150000e+04 train accuracy: 0.333265 val accuracy: 0.321000\n",
      "lr 1.400000e-07 reg 1.200000e+04 train accuracy: 0.338306 val accuracy: 0.341000\n",
      "lr 1.600000e-07 reg 7.500000e+03 train accuracy: 0.323571 val accuracy: 0.333000\n",
      "lr 1.600000e-07 reg 8.000000e+03 train accuracy: 0.326816 val accuracy: 0.327000\n",
      "lr 1.600000e-07 reg 8.500000e+03 train accuracy: 0.331245 val accuracy: 0.342000\n",
      "lr 1.600000e-07 reg 9.000000e+03 train accuracy: 0.334020 val accuracy: 0.332000\n",
      "lr 1.600000e-07 reg 9.500000e+03 train accuracy: 0.338673 val accuracy: 0.356000\n",
      "lr 1.600000e-07 reg 1.000000e+04 train accuracy: 0.343592 val accuracy: 0.358000\n",
      "lr 1.600000e-07 reg 1.050000e+04 train accuracy: 0.342551 val accuracy: 0.355000\n",
      "lr 1.600000e-07 reg 1.100000e+04 train accuracy: 0.348000 val accuracy: 0.363000\n",
      "lr 1.600000e-07 reg 1.150000e+04 train accuracy: 0.344878 val accuracy: 0.354000\n",
      "lr 1.600000e-07 reg 1.200000e+04 train accuracy: 0.349082 val accuracy: 0.352000\n",
      "lr 1.800000e-07 reg 7.500000e+03 train accuracy: 0.333102 val accuracy: 0.333000\n",
      "lr 1.800000e-07 reg 8.000000e+03 train accuracy: 0.339265 val accuracy: 0.351000\n",
      "lr 1.800000e-07 reg 8.500000e+03 train accuracy: 0.343429 val accuracy: 0.352000\n",
      "lr 1.800000e-07 reg 9.000000e+03 train accuracy: 0.345327 val accuracy: 0.356000\n",
      "lr 1.800000e-07 reg 9.500000e+03 train accuracy: 0.351184 val accuracy: 0.365000\n",
      "lr 1.800000e-07 reg 1.000000e+04 train accuracy: 0.350041 val accuracy: 0.364000\n",
      "lr 1.800000e-07 reg 1.050000e+04 train accuracy: 0.351653 val accuracy: 0.353000\n",
      "lr 1.800000e-07 reg 1.100000e+04 train accuracy: 0.354857 val accuracy: 0.369000\n",
      "lr 1.800000e-07 reg 1.150000e+04 train accuracy: 0.355612 val accuracy: 0.372000\n",
      "lr 1.800000e-07 reg 1.200000e+04 train accuracy: 0.355306 val accuracy: 0.361000\n",
      "lr 2.000000e-07 reg 7.500000e+03 train accuracy: 0.342041 val accuracy: 0.361000\n",
      "lr 2.000000e-07 reg 8.000000e+03 train accuracy: 0.349571 val accuracy: 0.348000\n",
      "lr 2.000000e-07 reg 8.500000e+03 train accuracy: 0.350653 val accuracy: 0.358000\n",
      "lr 2.000000e-07 reg 9.000000e+03 train accuracy: 0.355755 val accuracy: 0.370000\n",
      "lr 2.000000e-07 reg 9.500000e+03 train accuracy: 0.357388 val accuracy: 0.368000\n",
      "lr 2.000000e-07 reg 1.000000e+04 train accuracy: 0.356939 val accuracy: 0.366000\n",
      "lr 2.000000e-07 reg 1.050000e+04 train accuracy: 0.356245 val accuracy: 0.375000\n",
      "lr 2.000000e-07 reg 1.100000e+04 train accuracy: 0.362306 val accuracy: 0.370000\n",
      "lr 2.000000e-07 reg 1.150000e+04 train accuracy: 0.359796 val accuracy: 0.371000\n",
      "lr 2.000000e-07 reg 1.200000e+04 train accuracy: 0.356122 val accuracy: 0.374000\n",
      "lr 2.200000e-07 reg 7.500000e+03 train accuracy: 0.353143 val accuracy: 0.352000\n",
      "lr 2.200000e-07 reg 8.000000e+03 train accuracy: 0.358000 val accuracy: 0.366000\n",
      "lr 2.200000e-07 reg 8.500000e+03 train accuracy: 0.356898 val accuracy: 0.360000\n",
      "lr 2.200000e-07 reg 9.000000e+03 train accuracy: 0.360143 val accuracy: 0.361000\n",
      "lr 2.200000e-07 reg 9.500000e+03 train accuracy: 0.359122 val accuracy: 0.373000\n",
      "lr 2.200000e-07 reg 1.000000e+04 train accuracy: 0.363980 val accuracy: 0.378000\n",
      "lr 2.200000e-07 reg 1.050000e+04 train accuracy: 0.361082 val accuracy: 0.372000\n",
      "lr 2.200000e-07 reg 1.100000e+04 train accuracy: 0.363694 val accuracy: 0.376000\n",
      "lr 2.200000e-07 reg 1.150000e+04 train accuracy: 0.361857 val accuracy: 0.374000\n",
      "lr 2.200000e-07 reg 1.200000e+04 train accuracy: 0.362184 val accuracy: 0.378000\n",
      "lr 2.400000e-07 reg 7.500000e+03 train accuracy: 0.361041 val accuracy: 0.371000\n",
      "lr 2.400000e-07 reg 8.000000e+03 train accuracy: 0.362653 val accuracy: 0.378000\n",
      "lr 2.400000e-07 reg 8.500000e+03 train accuracy: 0.363735 val accuracy: 0.372000\n",
      "lr 2.400000e-07 reg 9.000000e+03 train accuracy: 0.364306 val accuracy: 0.369000\n",
      "lr 2.400000e-07 reg 9.500000e+03 train accuracy: 0.365061 val accuracy: 0.374000\n",
      "lr 2.400000e-07 reg 1.000000e+04 train accuracy: 0.364878 val accuracy: 0.389000\n",
      "lr 2.400000e-07 reg 1.050000e+04 train accuracy: 0.369143 val accuracy: 0.384000\n",
      "lr 2.400000e-07 reg 1.100000e+04 train accuracy: 0.362776 val accuracy: 0.384000\n",
      "lr 2.400000e-07 reg 1.150000e+04 train accuracy: 0.363388 val accuracy: 0.375000\n",
      "lr 2.400000e-07 reg 1.200000e+04 train accuracy: 0.365592 val accuracy: 0.369000\n",
      "lr 2.600000e-07 reg 7.500000e+03 train accuracy: 0.362714 val accuracy: 0.366000\n",
      "lr 2.600000e-07 reg 8.000000e+03 train accuracy: 0.363755 val accuracy: 0.372000\n",
      "lr 2.600000e-07 reg 8.500000e+03 train accuracy: 0.365163 val accuracy: 0.382000\n",
      "lr 2.600000e-07 reg 9.000000e+03 train accuracy: 0.367714 val accuracy: 0.378000\n",
      "lr 2.600000e-07 reg 9.500000e+03 train accuracy: 0.368959 val accuracy: 0.379000\n",
      "lr 2.600000e-07 reg 1.000000e+04 train accuracy: 0.368122 val accuracy: 0.374000\n",
      "lr 2.600000e-07 reg 1.050000e+04 train accuracy: 0.365959 val accuracy: 0.379000\n",
      "lr 2.600000e-07 reg 1.100000e+04 train accuracy: 0.369531 val accuracy: 0.391000\n",
      "lr 2.600000e-07 reg 1.150000e+04 train accuracy: 0.367327 val accuracy: 0.390000\n",
      "lr 2.600000e-07 reg 1.200000e+04 train accuracy: 0.367327 val accuracy: 0.376000\n",
      "lr 2.800000e-07 reg 7.500000e+03 train accuracy: 0.372551 val accuracy: 0.388000\n",
      "lr 2.800000e-07 reg 8.000000e+03 train accuracy: 0.369082 val accuracy: 0.374000\n",
      "lr 2.800000e-07 reg 8.500000e+03 train accuracy: 0.369367 val accuracy: 0.382000\n",
      "lr 2.800000e-07 reg 9.000000e+03 train accuracy: 0.371082 val accuracy: 0.380000\n",
      "lr 2.800000e-07 reg 9.500000e+03 train accuracy: 0.371571 val accuracy: 0.390000\n",
      "lr 2.800000e-07 reg 1.000000e+04 train accuracy: 0.369673 val accuracy: 0.371000\n",
      "lr 2.800000e-07 reg 1.050000e+04 train accuracy: 0.369204 val accuracy: 0.386000\n",
      "lr 2.800000e-07 reg 1.100000e+04 train accuracy: 0.368735 val accuracy: 0.387000\n",
      "lr 2.800000e-07 reg 1.150000e+04 train accuracy: 0.371020 val accuracy: 0.384000\n",
      "lr 2.800000e-07 reg 1.200000e+04 train accuracy: 0.363653 val accuracy: 0.374000\n",
      "best validation accuracy achieved during cross-validation: 0.391000\n"
     ]
    }
   ],
   "source": [
    "# Use the validation set to tune hyperparameters (regularization strength and\n",
    "# learning rate). You should experiment with different ranges for the learning\n",
    "# rates and regularization strengths; if you are careful you should be able to\n",
    "# get a classification accuracy of over 0.35 on the validation set.\n",
    "\n",
    "from cs231n.classifiers import Softmax\n",
    "results = {}\n",
    "best_val = -1\n",
    "best_softmax = None\n",
    "\n",
    "################################################################################\n",
    "# TODO:                                                                        #\n",
    "# Use the validation set to set the learning rate and regularization strength. #\n",
    "# This should be identical to the validation that you did for the SVM; save    #\n",
    "# the best trained softmax classifer in best_softmax.                          #\n",
    "################################################################################\n",
    "\n",
    "# Provided as a reference. You may or may not want to change these hyperparameters\n",
    "learning_rates = [(2+0.2*i)*1e-7 for i in range(-5,5)]\n",
    "regularization_strengths = [(7.5+0.5*i)*1e3 for i in range(10)]\n",
    "\n",
    "# *****START OF YOUR CODE (DO NOT DELETE/MODIFY THIS LINE)*****\n",
    "\n",
    "for lr in learning_rates:\n",
    "    for rs in regularization_strengths:\n",
    "        softmax = Softmax()\n",
    "        softmax.train(X_train, y_train, learning_rate=lr, reg=rs, num_iters=1000)\n",
    "        y_train_pred = softmax.predict(X_train)\n",
    "        acc_train = np.mean(y_train == y_train_pred)\n",
    "        y_val_pred = softmax.predict(X_val)\n",
    "        acc_val = np.mean(y_val == y_val_pred)\n",
    "        results[(lr, rs)] = (acc_train, acc_val)\n",
    "        if best_val < acc_val:\n",
    "            best_val = acc_val\n",
    "            best_softmax = softmax\n",
    "\n",
    "# *****END OF YOUR CODE (DO NOT DELETE/MODIFY THIS LINE)*****\n",
    "    \n",
    "# Print out results.\n",
    "for lr, reg in sorted(results):\n",
    "    train_accuracy, val_accuracy = results[(lr, reg)]\n",
    "    print('lr %e reg %e train accuracy: %f val accuracy: %f' % (\n",
    "                lr, reg, train_accuracy, val_accuracy))\n",
    "    \n",
    "print('best validation accuracy achieved during cross-validation: %f' % best_val)"
   ]
  },
  {
   "cell_type": "code",
   "execution_count": 8,
   "id": "deb37cc6",
   "metadata": {
    "test": "test"
   },
   "outputs": [
    {
     "name": "stdout",
     "output_type": "stream",
     "text": [
      "softmax on raw pixels final test set accuracy: 0.371000\n"
     ]
    }
   ],
   "source": [
    "# evaluate on test set\n",
    "# Evaluate the best softmax on test set\n",
    "y_test_pred = best_softmax.predict(X_test)\n",
    "test_accuracy = np.mean(y_test == y_test_pred)\n",
    "print('softmax on raw pixels final test set accuracy: %f' % (test_accuracy, ))"
   ]
  },
  {
   "cell_type": "markdown",
   "id": "df501314",
   "metadata": {
    "tags": [
     "pdf-inline"
    ]
   },
   "source": [
    "**Inline Question 2** - *True or False*\n",
    "\n",
    "Suppose the overall training loss is defined as the sum of the per-datapoint loss over all training examples. It is possible to add a new datapoint to a training set that would leave the SVM loss unchanged, but this is not the case with the Softmax classifier loss.\n",
    "\n",
    "$\\color{blue}{\\textit Your Answer:}$ True\n",
    "\n",
    "\n",
    "$\\color{blue}{\\textit Your Explanation:}$\n",
    "\n"
   ]
  },
  {
   "cell_type": "code",
   "execution_count": 9,
   "id": "ade33adc",
   "metadata": {
    "pycharm": {
     "name": "#%%\n"
    }
   },
   "outputs": [
    {
     "data": {
      "text/plain": "<Figure size 720x576 with 10 Axes>",
      "image/png": "[encoded data removed]"
     },
     "metadata": {
      "needs_background": "light"
     },
     "output_type": "display_data"
    }
   ],
   "source": [
    "# Visualize the learned weights for each class\n",
    "w = best_softmax.W[:-1,:] # strip out the bias\n",
    "w = w.reshape(32, 32, 3, 10)\n",
    "\n",
    "w_min, w_max = np.min(w), np.max(w)\n",
    "\n",
    "classes = ['plane', 'car', 'bird', 'cat', 'deer', 'dog', 'frog', 'horse', 'ship', 'truck']\n",
    "for i in range(10):\n",
    "    plt.subplot(2, 5, i + 1)\n",
    "    \n",
    "    # Rescale the weights to be between 0 and 255\n",
    "    wimg = 255.0 * (w[:, :, :, i].squeeze() - w_min) / (w_max - w_min)\n",
    "    plt.imshow(wimg.astype('uint8'))\n",
    "    plt.axis('off')\n",
    "    plt.title(classes[i])"
   ]
  }
 ],
 "metadata": {},
 "nbformat": 4,
 "nbformat_minor": 5
}